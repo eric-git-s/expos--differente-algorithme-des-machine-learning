{
  "cells": [
    {
      "cell_type": "markdown",
      "metadata": {},
      "source": [
        "# \ud83e\udd16 Apprentissage non supervis\u00e9 \u2013 K-means Clustering"
      ]
    },
    {
      "cell_type": "markdown",
      "metadata": {},
      "source": [
        "## \ud83c\udfaf Probl\u00e8me : Regrouper des clients selon leurs d\u00e9penses mensuelles (\u20ac)"
      ]
    },
    {
      "cell_type": "code",
      "execution_count": null,
      "metadata": {},
      "outputs": [],
      "source": [
        "import numpy as np\n",
        "import matplotlib.pyplot as plt"
      ]
    },
    {
      "cell_type": "markdown",
      "metadata": {},
      "source": [
        "## \ud83d\udcb6 Donn\u00e9es clients"
      ]
    },
    {
      "cell_type": "code",
      "execution_count": null,
      "metadata": {},
      "outputs": [],
      "source": [
        "depenses = np.array([200, 220, 250, 1000, 1050, 1100])"
      ]
    },
    {
      "cell_type": "markdown",
      "metadata": {},
      "source": [
        "## \ud83d\udccc \u00c9tape 1 : Initialiser 2 centres (k=2)"
      ]
    },
    {
      "cell_type": "code",
      "execution_count": null,
      "metadata": {},
      "outputs": [],
      "source": [
        "centres = np.array([220.0, 1050.0])  # centre initial"
      ]
    },
    {
      "cell_type": "markdown",
      "metadata": {},
      "source": [
        "## \ud83d\udd01 \u00c9tape 2 : R\u00e9p\u00e9ter jusqu\u2019\u00e0 stabilit\u00e9"
      ]
    },
    {
      "cell_type": "code",
      "execution_count": null,
      "metadata": {},
      "outputs": [],
      "source": [
        "def assigner_clusters(data, centres):\n",
        "    distances = np.abs(data[:, np.newaxis] - centres)\n",
        "    return np.argmin(distances, axis=1)\n",
        "\n",
        "def recalculer_centres(data, clusters, k):\n",
        "    return np.array([data[clusters == i].mean() for i in range(k)])\n",
        "\n",
        "k = 2\n",
        "for iteration in range(10):\n",
        "    clusters = assigner_clusters(depenses, centres)\n",
        "    nouveaux_centres = recalculer_centres(depenses, clusters, k)\n",
        "    if np.allclose(centres, nouveaux_centres):\n",
        "        break\n",
        "    centres = nouveaux_centres"
      ]
    },
    {
      "cell_type": "markdown",
      "metadata": {},
      "source": [
        "## \ud83d\udcca R\u00e9sultat final"
      ]
    },
    {
      "cell_type": "code",
      "execution_count": null,
      "metadata": {},
      "outputs": [],
      "source": [
        "for i in range(k):\n",
        "    print(f\"Cluster {i+1} :\", depenses[clusters == i])\n",
        "print(\"Centres finaux :\", centres)"
      ]
    },
    {
      "cell_type": "markdown",
      "metadata": {},
      "source": [
        "## \ud83d\udcc8 Visualisation"
      ]
    },
    {
      "cell_type": "code",
      "execution_count": null,
      "metadata": {},
      "outputs": [],
      "source": [
        "colors = ['red', 'blue']\n",
        "for i in range(k):\n",
        "    plt.scatter(depenses[clusters == i], [0]*len(depenses[clusters == i]), color=colors[i], label=f\"Cluster {i+1}\")\n",
        "    plt.scatter(centres[i], 0, color=colors[i], edgecolor='black', s=200, marker='x')\n",
        "plt.title(\"Regroupement des clients par K-means\")\n",
        "plt.yticks([])\n",
        "plt.xlabel(\"D\u00e9penses mensuelles (\u20ac)\")\n",
        "plt.legend()\n",
        "plt.grid(True)\n",
        "plt.show()"
      ]
    }
  ],
  "metadata": {
    "kernelspec": {
      "display_name": "Python 3",
      "language": "python",
      "name": "python3"
    },
    "language_info": {
      "name": "python",
      "version": "3.9"
    }
  },
  "nbformat": 4,
  "nbformat_minor": 5
}