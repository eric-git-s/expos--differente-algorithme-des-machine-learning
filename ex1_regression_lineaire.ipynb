{
 "cells": [
  {
   "cell_type": "markdown",
   "id": "bd9d5e45",
   "metadata": {},
   "source": [
    "# Régression Linéaire"
   ]
  },
  {
   "cell_type": "code",
   "execution_count": null,
   "id": "26afc4f9",
   "metadata": {},
   "outputs": [],
   "source": [
    "## Objectif : prédire le prix d'une maison en fonction de la superficie"
   ]
  },
  {
   "cell_type": "markdown",
   "id": "f2857bf8",
   "metadata": {},
   "source": [
    "\n",
    "import numpy as np\n",
    "import matplotlib.pyplot as plt\n",
    "\n",
    "# Données\n",
    "surface = np.array([50, 60, 70, 80, 90])\n",
    "prix = np.array([150, 180, 210, 240, 270])  # en milliers €\n",
    "\n",
    "# Modèle : Prix = a * surface + b\n",
    "a = 3\n",
    "b = 0\n",
    "surface_test = 100\n",
    "prix_pred = a * surface_test + b\n",
    "\n",
    "# Affichage\n",
    "plt.scatter(surface, prix, color='blue', label='Données')\n",
    "plt.plot(surface, a*surface + b, color='red', label='Régression')\n",
    "plt.xlabel('Surface (m²)')\n",
    "plt.ylabel('Prix (en milliers €)')\n",
    "plt.title('Régression linéaire')\n",
    "plt.legend()\n",
    "plt.grid()\n",
    "plt.show()\n",
    "\n",
    "print(f\"Prix estimé pour {surface_test} m² : {prix_pred}k€\")\n",
    "        "
   ]
  }
 ],
 "metadata": {},
 "nbformat": 4,
 "nbformat_minor": 5
}
