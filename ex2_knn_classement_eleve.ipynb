{
 "cells": [
  {
   "cell_type": "markdown",
   "id": "e5eeaf76",
   "metadata": {},
   "source": [
    "# 🧠 Exercice 2 : Classification avec k-NN\n",
    "**Problème :** Classer un élève comme \"Admis\" ou \"Non admis\" selon ses notes.\n",
    "\n",
    "**Données :**\n",
    "- (15, \"Admis\")\n",
    "- (16, \"Admis\")\n",
    "- (10, \"Non admis\")\n",
    "- (12, \"Non admis\")\n",
    "\n",
    "**Nouvel élève :** note = 13\n",
    "\n",
    "**Méthode :** Utilisation de l'algorithme *k plus proches voisins* avec k = 3.\n"
   ]
  },
  {
   "cell_type": "code",
   "execution_count": null,
   "id": "cc10ae97",
   "metadata": {},
   "outputs": [],
   "source": [
    "from collections import Counter\n",
    "# Données d'entraînement\n",
    "donnees = [(15, 'Admis'), (16, 'Admis'), (10, 'Non admis'), (12, 'Non admis')]\n",
    "nouvelle_note = 13\n",
    "k = 3\n",
    "\n",
    "# Trier les voisins par distance à la nouvelle note\n",
    "voisins_proches = sorted(donnees, key=lambda x: abs(x[0] - nouvelle_note))[:k]\n",
    "resultats = [statut for _, statut in voisins_proches]\n",
    "vote_majoritaire = Counter(resultats).most_common(1)[0][0]\n",
    "\n",
    "print(f\"Note de l'élève à classer : {nouvelle_note}\")\n",
    "print(\"Voisins les plus proches :\", voisins_proches)\n",
    "print(\"Résultats des voisins :\", resultats)\n",
    "print(f\"\\n🧠 Prédiction : {vote_majoritaire}\")"
   ]
  },
  {
   "cell_type": "code",
   "execution_count": null,
   "id": "21378980",
   "metadata": {},
   "outputs": [],
   "source": []
  },
  {
   "cell_type": "code",
   "execution_count": null,
   "id": "72e5facf",
   "metadata": {},
   "outputs": [],
   "source": [
    "# 📈 Visualisation\n",
    "import matplotlib.pyplot as plt\n",
    "\n",
    "notes = [note for note, _ in donnees]\n",
    "statuts = [statut for _, statut in donnees]\n",
    "couleurs = ['green' if s == 'Admis' else 'red' for s in statuts]\n",
    "\n",
    "plt.figure(figsize=(8, 2))\n",
    "plt.scatter(notes, [1]*len(notes), color=couleurs, s=300, label='Données')\n",
    "plt.scatter(nouvelle_note, 1, color='blue', s=300, label='Nouvel élève')\n",
    "\n",
    "for i, note in enumerate(notes):\n",
    "    plt.text(note, 1.05, statuts[i], ha='center')\n",
    "\n",
    "plt.title(\"k-NN : Prédiction du statut d'un élève\")\n",
    "plt.yticks([])\n",
    "plt.xlabel('Note')\n",
    "plt.grid(True)\n",
    "plt.legend()\n",
    "plt.show()"
   ]
  }
 ],
 "metadata": {
  "language_info": {
   "name": "python"
  }
 },
 "nbformat": 4,
 "nbformat_minor": 5
}
